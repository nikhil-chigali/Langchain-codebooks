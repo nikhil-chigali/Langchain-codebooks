{
 "cells": [
  {
   "cell_type": "code",
   "execution_count": 1,
   "metadata": {},
   "outputs": [],
   "source": [
    "import os\n",
    "import openai\n",
    "from dotenv import load_dotenv\n",
    "\n",
    "load_dotenv()\n",
    "client = openai.OpenAI(\n",
    "    api_key=os.getenv(\"OPENAI_API_KEY\"),\n",
    ")"
   ]
  },
  {
   "cell_type": "markdown",
   "metadata": {},
   "source": [
    "# OpenAI API"
   ]
  },
  {
   "cell_type": "code",
   "execution_count": 4,
   "metadata": {},
   "outputs": [
    {
     "name": "stdout",
     "output_type": "stream",
     "text": [
      "ChatCompletion(id='chatcmpl-9LzW75ZUl3ciUJxdoxdSFvuQVJvQy', choices=[Choice(finish_reason='stop', index=0, logprobs=None, message=ChatCompletionMessage(content='Ingredients:\\n- 1 head of romaine lettuce, chopped\\n- 1 can of black beans, drained and rinsed\\n- 1 cup of corn kernels\\n- 1 red bell pepper, diced\\n- 1 avocado, diced\\n- 1/2 cup of cherry tomatoes, halved\\n- 1/4 cup of red onion, diced\\n- 1/4 cup of cilantro, chopped\\n- 1/4 cup of crumbled queso fresco or feta cheese\\n- Juice of 1 lime\\n- 2 tablespoons of olive oil\\n- 1 teaspoon of cumin\\n- 1 teaspoon of chili powder\\n- Salt and pepper to taste\\n\\nInstructions:\\n1. In a large bowl, combine the chopped romaine lettuce, black beans, corn, red bell pepper, avocado, cherry tomatoes, red onion, and cilantro.\\n2. In a small bowl, whisk together the lime juice, olive oil, cumin, chili powder, salt, and pepper.\\n3. Pour the dressing over the salad and toss to combine.\\n4. Sprinkle the crumbled queso fresco or feta cheese on top.\\n5. Serve immediately and enjoy your delicious Mexican salad!', role='assistant', function_call=None, tool_calls=None))], created=1715028387, model='gpt-3.5-turbo-0125', object='chat.completion', system_fingerprint=None, usage=CompletionUsage(completion_tokens=249, prompt_tokens=17, total_tokens=266))\n"
     ]
    }
   ],
   "source": [
    "messages = [\n",
    "    {\n",
    "        \"role\": \"user\",\n",
    "        \"content\": \"Give me a recipe for a mexican salad.\"\n",
    "    }\n",
    "]\n",
    "\n",
    "response = client.chat.completions.create(\n",
    "    model=\"gpt-3.5-turbo\",\n",
    "    messages=messages,\n",
    "    temperature=0.0,\n",
    ")\n",
    "\n",
    "print(response)"
   ]
  },
  {
   "cell_type": "code",
   "execution_count": 11,
   "metadata": {},
   "outputs": [
    {
     "name": "stdout",
     "output_type": "stream",
     "text": [
      "Ingredients:\n",
      "- 1 head of romaine lettuce, chopped\n",
      "- 1 can of black beans, drained and rinsed\n",
      "- 1 cup of corn kernels\n",
      "- 1 red bell pepper, diced\n",
      "- 1 avocado, diced\n",
      "- 1/2 cup of cherry tomatoes, halved\n",
      "- 1/4 cup of red onion, diced\n",
      "- 1/4 cup of cilantro, chopped\n",
      "- 1/4 cup of crumbled queso fresco or feta cheese\n",
      "- Juice of 1 lime\n",
      "- 2 tablespoons of olive oil\n",
      "- 1 teaspoon of cumin\n",
      "- 1 teaspoon of chili powder\n",
      "- Salt and pepper to taste\n",
      "\n",
      "Instructions:\n",
      "1. In a large bowl, combine the chopped romaine lettuce, black beans, corn, red bell pepper, avocado, cherry tomatoes, red onion, and cilantro.\n",
      "2. In a small bowl, whisk together the lime juice, olive oil, cumin, chili powder, salt, and pepper.\n",
      "3. Pour the dressing over the salad and toss to combine.\n",
      "4. Sprinkle the crumbled queso fresco or feta cheese on top.\n",
      "5. Serve immediately and enjoy your delicious Mexican salad!\n"
     ]
    }
   ],
   "source": [
    "print(response.choices[0].message.content)"
   ]
  },
  {
   "cell_type": "markdown",
   "metadata": {},
   "source": [
    "# LangChain 🦜"
   ]
  },
  {
   "cell_type": "code",
   "execution_count": 18,
   "metadata": {},
   "outputs": [
    {
     "data": {
      "text/plain": [
       "True"
      ]
     },
     "execution_count": 18,
     "metadata": {},
     "output_type": "execute_result"
    }
   ],
   "source": [
    "from langchain_openai import ChatOpenAI\n",
    "from dotenv import load_dotenv\n",
    "load_dotenv()"
   ]
  },
  {
   "cell_type": "code",
   "execution_count": 20,
   "metadata": {},
   "outputs": [],
   "source": [
    "llm = ChatOpenAI(model=\"gpt-3.5-turbo\")\n",
    "response = llm.invoke(\"Give me a recipe for a mexican salad.\")"
   ]
  },
  {
   "cell_type": "code",
   "execution_count": 24,
   "metadata": {},
   "outputs": [
    {
     "name": "stdout",
     "output_type": "stream",
     "text": [
      "Ingredients:\n",
      "- 1 head of romaine lettuce, chopped\n",
      "- 1 can of black beans, drained and rinsed\n",
      "- 1 cup of corn kernels (fresh, frozen, or canned)\n",
      "- 1 red bell pepper, diced\n",
      "- 1 avocado, diced\n",
      "- 1/2 cup of cherry tomatoes, halved\n",
      "- 1/4 cup of red onion, thinly sliced\n",
      "- 1/4 cup of cilantro, chopped\n",
      "- 1/4 cup of cotija cheese, crumbled\n",
      "- Juice of 1 lime\n",
      "- 2 tablespoons of olive oil\n",
      "- 1 teaspoon of cumin\n",
      "- 1 teaspoon of chili powder\n",
      "- Salt and pepper to taste\n",
      "\n",
      "Instructions:\n",
      "1. In a large salad bowl, combine the chopped romaine lettuce, black beans, corn, red bell pepper, avocado, cherry tomatoes, red onion, and cilantro.\n",
      "2. In a small bowl, whisk together the lime juice, olive oil, cumin, chili powder, salt, and pepper.\n",
      "3. Pour the dressing over the salad and toss to combine.\n",
      "4. Sprinkle the cotija cheese on top of the salad before serving.\n",
      "5. Enjoy your delicious Mexican salad!\n"
     ]
    }
   ],
   "source": [
    "print(response.content)"
   ]
  },
  {
   "cell_type": "markdown",
   "metadata": {},
   "source": [
    "## Prompt templates"
   ]
  },
  {
   "cell_type": "code",
   "execution_count": 27,
   "metadata": {},
   "outputs": [
    {
     "name": "stdout",
     "output_type": "stream",
     "text": [
      "Recipe: Egg, Bell Pepper, and Paneer Salad with Yogurt Dressing\n",
      "\n",
      "Ingredients:\n",
      "- 4 boiled eggs, sliced\n",
      "- 1 red bell pepper, diced\n",
      "- 1 green bell pepper, diced\n",
      "- 200g paneer, diced\n",
      "- 1/2 cup plain yogurt\n",
      "- 1 tablespoon lemon juice\n",
      "- 1 teaspoon honey\n",
      "- Salt and pepper, to taste\n",
      "- Fresh cilantro, chopped for garnish\n",
      "\n",
      "Instructions:\n",
      "1. In a large mixing bowl, combine the boiled eggs, diced bell peppers, and diced paneer.\n",
      "2. In a separate bowl, whisk together the plain yogurt, lemon juice, honey, salt, and pepper to make the dressing.\n",
      "3. Pour the yogurt dressing over the egg, bell pepper, and paneer mixture. Gently toss to coat everything evenly.\n",
      "4. Transfer the salad to a serving platter and garnish with fresh chopped cilantro.\n",
      "5. Serve the salad immediately and enjoy!\n",
      "\n",
      "Nutritional Content (per serving):\n",
      "- Calories: 320\n",
      "- Protein: 25g\n",
      "- Carbohydrates: 10g\n",
      "- Fat: 20g\n",
      "- Fiber: 2g\n"
     ]
    }
   ],
   "source": [
    "from langchain_core.prompts import ChatPromptTemplate\n",
    "\n",
    "prompt = ChatPromptTemplate.from_messages(\n",
    "    [\n",
    "        (\"system\", \"You are a chef assistant. You are known for making quick healthy dishes inspired by Indian and Mexican cuisines. Give the nutritional content at the end of the recipe.\"),\n",
    "        (\"user\", \"{query}\"),\n",
    "    ]\n",
    ")\n",
    "\n",
    "chain = prompt | llm\n",
    "\n",
    "response = chain.invoke({\n",
    "    \"query\": \"Give me a recipe for a healthy salad using eggs, bell peppers, paneer, and yogurt.\"\n",
    "})\n",
    "\n",
    "print(response.content)"
   ]
  },
  {
   "cell_type": "markdown",
   "metadata": {},
   "source": [
    "# Output parsers"
   ]
  },
  {
   "cell_type": "code",
   "execution_count": 29,
   "metadata": {},
   "outputs": [
    {
     "name": "stdout",
     "output_type": "stream",
     "text": [
      "Ingredients:\n",
      "- 2 boiled eggs, sliced\n",
      "- 1 bell pepper, sliced\n",
      "- 100g paneer, cubed\n",
      "- 1/2 cup plain yogurt\n",
      "- 1 tsp cumin powder\n",
      "- 1 tsp paprika\n",
      "- Salt and pepper to taste\n",
      "- Fresh cilantro for garnish\n",
      "\n",
      "Instructions:\n",
      "1. In a mixing bowl, combine the plain yogurt with cumin powder, paprika, salt, and pepper. Mix well to make the dressing.\n",
      "2. In a salad bowl, arrange the sliced boiled eggs, bell pepper slices, and paneer cubes.\n",
      "3. Drizzle the yogurt dressing over the salad.\n",
      "4. Garnish with fresh cilantro.\n",
      "5. Serve and enjoy your healthy egg, bell pepper, and paneer salad!\n",
      "\n",
      "Nutritional content (per serving):\n",
      "- Calories: 280\n",
      "- Protein: 20g\n",
      "- Carbohydrates: 10g\n",
      "- Fat: 17g\n",
      "- Fiber: 2g\n"
     ]
    }
   ],
   "source": [
    "from langchain_core.output_parsers import StrOutputParser\n",
    "\n",
    "output_parser = StrOutputParser()\n",
    "\n",
    "chain = prompt | llm | output_parser\n",
    "\n",
    "response = chain.invoke({\n",
    "    \"query\": \"Give me a recipe for a healthy salad using eggs, bell peppers, paneer, and yogurt.\"\n",
    "})\n",
    "\n",
    "print(response)"
   ]
  }
 ],
 "metadata": {
  "kernelspec": {
   "display_name": ".venv",
   "language": "python",
   "name": "python3"
  },
  "language_info": {
   "codemirror_mode": {
    "name": "ipython",
    "version": 3
   },
   "file_extension": ".py",
   "mimetype": "text/x-python",
   "name": "python",
   "nbconvert_exporter": "python",
   "pygments_lexer": "ipython3",
   "version": "3.11.4"
  }
 },
 "nbformat": 4,
 "nbformat_minor": 2
}
