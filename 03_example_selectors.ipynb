{
 "cells": [
  {
   "cell_type": "code",
   "execution_count": 2,
   "metadata": {},
   "outputs": [],
   "source": [
    "from langchain_core.example_selectors.base import BaseExampleSelector\n",
    "\n",
    "from langchain_core.prompts.few_shot import FewShotPromptTemplate\n",
    "from langchain_core.prompts.prompt import PromptTemplate"
   ]
  },
  {
   "cell_type": "code",
   "execution_count": 3,
   "metadata": {},
   "outputs": [],
   "source": [
    "examples = [\n",
    "    {\"input\": \"hi\", \"output\": \"ciao\"},\n",
    "    {\"input\": \"bye\", \"output\": \"arrivaderci\"},\n",
    "    {\"input\": \"soccer\", \"output\": \"calcio\"},\n",
    "    {\"input\": \"good morning\", \"output\": \"buongiorno\"},\n",
    "]"
   ]
  },
  {
   "cell_type": "code",
   "execution_count": 4,
   "metadata": {},
   "outputs": [],
   "source": [
    "from typing import Any, Dict\n",
    "\n",
    "\n",
    "class CustomExampleSelector(BaseExampleSelector):\n",
    "    def __init__(self, examples):\n",
    "        self.examples = examples\n",
    "    \n",
    "    def add_example(self, example: Dict[str, str]) -> Any:\n",
    "        self.examples.append(example)\n",
    "    \n",
    "    def select_examples(self, input_variables):\n",
    "        new_word = input_variables[\"input\"]\n",
    "        new_work_len = len(new_word)\n",
    "        \n",
    "        best_match = None\n",
    "        smallest_diff = float(\"inf\")\n",
    "        \n",
    "        for example in self.examples:\n",
    "            example_word = example[\"input\"]\n",
    "            example_word_len = len(example_word)\n",
    "            diff = abs(new_work_len - example_word_len)\n",
    "            if diff < smallest_diff:\n",
    "                smallest_diff = diff\n",
    "                best_match = example\n",
    "                \n",
    "        return best_match"
   ]
  },
  {
   "cell_type": "code",
   "execution_count": 5,
   "metadata": {},
   "outputs": [],
   "source": [
    "ex_selector = CustomExampleSelector(examples)\n",
    "\n",
    "ex_selector.add_example({\"input\": \"hand\", \"output\": \"mano\"})"
   ]
  },
  {
   "cell_type": "code",
   "execution_count": 13,
   "metadata": {},
   "outputs": [
    {
     "data": {
      "text/plain": [
       "{'input': 'soccer', 'output': 'calcio'}"
      ]
     },
     "execution_count": 13,
     "metadata": {},
     "output_type": "execute_result"
    }
   ],
   "source": [
    "ex_selector.select_examples({\"input\": \"thank you\"})"
   ]
  },
  {
   "cell_type": "code",
   "execution_count": 21,
   "metadata": {},
   "outputs": [
    {
     "name": "stdout",
     "output_type": "stream",
     "text": [
      "Input: hello -> Output: ciao\n"
     ]
    },
    {
     "data": {
      "text/plain": [
       "StringPromptValue(text='Input: hello -> Output: ciao')"
      ]
     },
     "execution_count": 21,
     "metadata": {},
     "output_type": "execute_result"
    }
   ],
   "source": [
    "prompt_template = PromptTemplate.from_template(\"Input: {input} -> Output: {output}\")\n",
    "\n",
    "print(prompt_template.format(input= \"hello\", output= \"ciao\"))\n",
    "prompt_template.invoke({\"input\": \"hello\", \"output\": \"ciao\"})"
   ]
  },
  {
   "cell_type": "code",
   "execution_count": null,
   "metadata": {},
   "outputs": [],
   "source": [
    "few_shot_template = FewShotPromptTemplate(\n",
    "    example_prompt=prompt_template,\n",
    "    example_selector=ex_selector,\n",
    "    prefix=\"Translate the following words to Italian\",\n",
    "    suffix=\"Input: {word}\",\n",
    ")"
   ]
  }
 ],
 "metadata": {
  "kernelspec": {
   "display_name": ".venv",
   "language": "python",
   "name": "python3"
  },
  "language_info": {
   "codemirror_mode": {
    "name": "ipython",
    "version": 3
   },
   "file_extension": ".py",
   "mimetype": "text/x-python",
   "name": "python",
   "nbconvert_exporter": "python",
   "pygments_lexer": "ipython3",
   "version": "3.11.4"
  }
 },
 "nbformat": 4,
 "nbformat_minor": 2
}
