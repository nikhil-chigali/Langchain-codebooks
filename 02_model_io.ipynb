{
 "cells": [
  {
   "cell_type": "markdown",
   "metadata": {},
   "source": [
    "# Model I/O\n",
    "\n",
    "Format ➡️ Model ➡️ Parse "
   ]
  },
  {
   "cell_type": "code",
   "execution_count": 15,
   "metadata": {},
   "outputs": [],
   "source": [
    "from dotenv import load_dotenv\n",
    "load_dotenv()\n",
    "\n",
    "from langchain_openai import ChatOpenAI, OpenAI\n",
    "from langchain_core.messages import HumanMessage"
   ]
  },
  {
   "cell_type": "code",
   "execution_count": 7,
   "metadata": {},
   "outputs": [
    {
     "name": "stdout",
     "output_type": "stream",
     "text": [
      "\n",
      "\n",
      "\"Believe you can and you're halfway there.\" - Theodore Roosevelt\n",
      "content='\"The only way to do great work is to love what you do.\" - Steve Jobs' response_metadata={'token_usage': {'completion_tokens': 17, 'prompt_tokens': 20, 'total_tokens': 37}, 'model_name': 'gpt-3.5-turbo', 'system_fingerprint': None, 'finish_reason': 'stop', 'logprobs': None} id='run-c174ba51-8b82-41f8-b789-14ac003cc995-0'\n"
     ]
    }
   ],
   "source": [
    "llm = OpenAI()\n",
    "chat_model = ChatOpenAI(model=\"gpt-3.5-turbo\")\n",
    "\n",
    "text = \"Give me a quote of the day! I need some inspiration.\"\n",
    "\n",
    "llm_response = llm.invoke(text)\n",
    "\n",
    "msgs = [\n",
    "    HumanMessage(content=text)\n",
    "]\n",
    "chat_response = chat_model.invoke(msgs)\n",
    "\n",
    "print(llm_response)\n",
    "print(chat_response)"
   ]
  },
  {
   "cell_type": "code",
   "execution_count": 8,
   "metadata": {},
   "outputs": [
    {
     "name": "stdout",
     "output_type": "stream",
     "text": [
      "<class 'str'>\n",
      "<class 'langchain_core.messages.ai.AIMessage'>\n"
     ]
    }
   ],
   "source": [
    "print(type(llm_response))\n",
    "print(type(chat_response))"
   ]
  },
  {
   "cell_type": "markdown",
   "metadata": {},
   "source": [
    "## Prompt Templates"
   ]
  },
  {
   "cell_type": "code",
   "execution_count": 14,
   "metadata": {},
   "outputs": [],
   "source": [
    "from langchain_core.prompts.chat import ChatPromptTemplate\n",
    "from langchain_core.prompts import PromptTemplate"
   ]
  },
  {
   "cell_type": "code",
   "execution_count": 9,
   "metadata": {},
   "outputs": [
    {
     "data": {
      "text/plain": [
       "'Give me a quote by the philosopher Aristotle.'"
      ]
     },
     "execution_count": 9,
     "metadata": {},
     "output_type": "execute_result"
    }
   ],
   "source": [
    "prompt = PromptTemplate.from_template(\"Give me a quote by the philosopher {philosopher}.\")\n",
    "prompt.format(philosopher= \"Aristotle\")"
   ]
  },
  {
   "cell_type": "code",
   "execution_count": 13,
   "metadata": {},
   "outputs": [
    {
     "data": {
      "text/plain": [
       "[SystemMessage(content='You are an expert language translator. Translate the following English text to French.'),\n",
       " HumanMessage(content='Hello, how are you?')]"
      ]
     },
     "execution_count": 13,
     "metadata": {},
     "output_type": "execute_result"
    }
   ],
   "source": [
    "chat_prompt = ChatPromptTemplate.from_messages([\n",
    "    (\"system\", \"You are an expert language translator. Translate the following {input_lang} text to {output_lang}.\"),\n",
    "    (\"user\", \"{text}\")\n",
    "])\n",
    "\n",
    "chat_prompt.format_messages(input_lang=\"English\", output_lang=\"French\", text=\"Hello, how are you?\")"
   ]
  },
  {
   "cell_type": "markdown",
   "metadata": {},
   "source": [
    "## Output parsers"
   ]
  },
  {
   "cell_type": "code",
   "execution_count": 16,
   "metadata": {},
   "outputs": [],
   "source": [
    "from langchain_core.output_parsers import CommaSeparatedListOutputParser\n",
    "from langchain_core.output_parsers import SimpleJsonOutputParser"
   ]
  },
  {
   "cell_type": "code",
   "execution_count": 17,
   "metadata": {},
   "outputs": [
    {
     "data": {
      "text/plain": [
       "['apple', 'banana', 'cherry']"
      ]
     },
     "execution_count": 17,
     "metadata": {},
     "output_type": "execute_result"
    }
   ],
   "source": [
    "list_parser = CommaSeparatedListOutputParser()\n",
    "list_parser.parse(\"apple, banana, cherry\")"
   ]
  },
  {
   "cell_type": "code",
   "execution_count": 18,
   "metadata": {},
   "outputs": [
    {
     "data": {
      "text/plain": [
       "{'name': 'Nikhil', 'age': 25, 'city': 'New York'}"
      ]
     },
     "execution_count": 18,
     "metadata": {},
     "output_type": "execute_result"
    }
   ],
   "source": [
    "json_parser = SimpleJsonOutputParser()\n",
    "json_parser.parse('{\"name\": \"Nikhil\", \"age\": 25, \"city\": \"New York\"}')"
   ]
  },
  {
   "cell_type": "code",
   "execution_count": 21,
   "metadata": {},
   "outputs": [
    {
     "name": "stdout",
     "output_type": "stream",
     "text": [
      "Your response should be a list of comma separated values, eg: `foo, bar, baz` or `foo,bar,baz`\n",
      "Return a JSON object.\n"
     ]
    }
   ],
   "source": [
    "print(list_parser.get_format_instructions())\n",
    "print(json_parser.get_format_instructions())"
   ]
  },
  {
   "cell_type": "markdown",
   "metadata": {},
   "source": [
    "# Composing with LCEL (LangChain Expression Language)"
   ]
  },
  {
   "cell_type": "code",
   "execution_count": 22,
   "metadata": {},
   "outputs": [],
   "source": [
    "template = \"Generate a list of 5 quotes by the philosopher {philosopher}.\\n\\n{format_instructions}\"\n",
    "chat_prompt = ChatPromptTemplate.from_template(template)\n",
    "chat_prompt = chat_prompt.partial(format_instructions=list_parser.get_format_instructions())\n",
    "\n",
    "chain = chat_prompt | chat_model | list_parser\n",
    "response = chain.invoke({\"philosopher\": \"Aristotle\"})"
   ]
  },
  {
   "cell_type": "code",
   "execution_count": 24,
   "metadata": {},
   "outputs": [
    {
     "data": {
      "text/plain": [
       "['1. \"The more you know',\n",
       " 'the more you realize you don’t know.\"\\n2. \"We are what we repeatedly do. Excellence',\n",
       " 'then',\n",
       " 'is not an act',\n",
       " 'but a habit.\"\\n3. \"Happiness depends upon ourselves.\"\\n4. \"It is the mark of an educated mind to be able to entertain a thought without accepting it.\"\\n5. \"The whole is greater than the sum of its parts.\"']"
      ]
     },
     "execution_count": 24,
     "metadata": {},
     "output_type": "execute_result"
    }
   ],
   "source": [
    "response"
   ]
  }
 ],
 "metadata": {
  "kernelspec": {
   "display_name": ".venv",
   "language": "python",
   "name": "python3"
  },
  "language_info": {
   "codemirror_mode": {
    "name": "ipython",
    "version": 3
   },
   "file_extension": ".py",
   "mimetype": "text/x-python",
   "name": "python",
   "nbconvert_exporter": "python",
   "pygments_lexer": "ipython3",
   "version": "3.11.4"
  }
 },
 "nbformat": 4,
 "nbformat_minor": 2
}
